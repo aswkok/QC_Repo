{
 "cells": [
  {
   "cell_type": "markdown",
   "id": "f983447c-572d-48e3-8be7-29e5d7a33575",
   "metadata": {},
   "source": [
    "# Exact and noisy simulation with Qiskit Aer primitives\n",
    "\n",
    "[Exact simulation with Qiskit primitives](simulate-with-qiskit-primitives) demonstrates how to use the reference primitives included with Qiskit to perform exact simulation of quantum circuits. Currently existing quantum processors suffer from errors, or noise, so the results of an exact simulation do not necessarily reflect the results you would expect when running circuits on real hardware. While the reference primitives in Qiskit do not support modeling noise, [Qiskit Aer](https://qiskit.org/ecosystem/aer/) includes implementations of the primitives that do support modeling noise. Qiskit Aer is a high-performance quantum circuit simulator that you can use in place of the reference primitives for better performance and more features. It is part of the [Qiskit Ecosystem](https://qiskit.github.io/ecosystem/). In this article, we demonstrate the use of Qiskit Aer primitives for exact and noisy simulation.\n",
    "\n",
    "<Admonition>\n",
    "  The Qiskit Aer primitives do not yet support the V2 interface.  To use the Aer simulator with V2 primitives, use the [Qiskit Runtime local testing mode](local-testing-mode) instead.\n",
    "</Admonition>\n",
    "\n",
    "Let's create an example circuit on eight qubits.\n"
   ]
  },
  {
   "cell_type": "code",
   "execution_count": null,
   "id": "75cdf7d2-cd25-4110-a22d-fb955005a1b2",
   "metadata": {},
   "outputs": [],
   "source": [
    "from qiskit.circuit.library import EfficientSU2\n",
    "\n",
    "n_qubits = 8\n",
    "circuit = EfficientSU2(n_qubits)\n",
    "circuit.decompose().draw(\"mpl\")"
   ]
  },
  {
   "cell_type": "markdown",
   "id": "db010004-7a23-4c64-9cb3-8768f805e22a",
   "metadata": {},
   "source": [
    "This circuit contains parameters to represent the rotation angles for $R_y$ and $R_z$ gates. When simulating this circuit, we need to specify explicit values for these parameters. In the next cell, we specify some values for these parameters and use the [Estimator](https://qiskit.org/ecosystem/aer/stubs/qiskit_aer.primitives.Estimator.html) primitive from Qiskit Aer to compute the exact expectation value of the observable $ZZ \\cdots Z$.\n"
   ]
  },
  {
   "cell_type": "code",
   "execution_count": 2,
   "id": "e3b66c94-722d-4f95-9669-f10fcdaac16f",
   "metadata": {},
   "outputs": [
    {
     "data": {
      "text/plain": [
       "0.8870140234256602"
      ]
     },
     "execution_count": 2,
     "metadata": {},
     "output_type": "execute_result"
    }
   ],
   "source": [
    "from qiskit.quantum_info import SparsePauliOp\n",
    "from qiskit_aer.primitives import Estimator\n",
    "\n",
    "observable = SparsePauliOp(\"Z\" * n_qubits)\n",
    "params = [0.1] * circuit.num_parameters\n",
    "\n",
    "exact_estimator = Estimator()\n",
    "job = exact_estimator.run(circuit, observable, params)\n",
    "exact_value = job.result().values[0]\n",
    "exact_value"
   ]
  },
  {
   "cell_type": "markdown",
   "id": "b0ed361f-1f63-4849-b30f-15d3695e32d7",
   "metadata": {},
   "source": [
    "Now, let's initialize a noise model that includes depolarizing error of 2% on every CX gate. In practice, the error arising from the two-qubit gates, which are CX gates here, are the dominant source of error when running a circuit. See [Build noise models](./building_noise_models) for an overview of constructing noise models in Qiskit Aer.\n",
    "\n",
    "In the next cell, we construct an Estimator that incorporates this noise model and use it to compute the expectation value of the observable.\n"
   ]
  },
  {
   "cell_type": "code",
   "execution_count": 3,
   "id": "d42f960c-d2fe-4a08-8a4e-e913e5048aaf",
   "metadata": {},
   "outputs": [
    {
     "data": {
      "text/plain": [
       "0.7247404214143527"
      ]
     },
     "execution_count": 3,
     "metadata": {},
     "output_type": "execute_result"
    }
   ],
   "source": [
    "from qiskit_aer.noise import NoiseModel, depolarizing_error\n",
    "\n",
    "noise_model = NoiseModel()\n",
    "cx_depolarizing_prob = 0.02\n",
    "noise_model.add_all_qubit_quantum_error(\n",
    "    depolarizing_error(cx_depolarizing_prob, 2), [\"cx\"]\n",
    ")\n",
    "\n",
    "noisy_estimator = Estimator(\n",
    "    backend_options={\"noise_model\": noise_model}\n",
    ")\n",
    "job = noisy_estimator.run(circuit, observable, params)\n",
    "noisy_value = job.result().values[0]\n",
    "noisy_value"
   ]
  },
  {
   "cell_type": "markdown",
   "id": "3a2ea00c-969d-41b2-bce4-475850e65c94",
   "metadata": {},
   "source": [
    "As you can see, the expectation value in the presence of the noise is quite far from the correct value. In practice, you can employ a variety of error mitigation techniques to counter the effects of the noise, but a discussion of these techniques is outside the scope of this article.\n",
    "\n",
    "To get a very rough sense of how the noise affects the final result, consider our noise model, which adds a depolarizing error of 2% to each CX gate. Depolarizing error with probability $p$ is defined as a quantum channel $E$ that has the following action on a density matrix $\\rho$:\n",
    "\n",
    "$$\n",
    "\n",
    "E(\\rho) = (1 - p) \\rho + p\\frac{I}{2^n}\n",
    "\n",
    "$$\n",
    "\n",
    "where $n$ is the number of qubits, in this case, 2. That is, with probability $p$, the state is replaced with the completely mixed state, and the state is preserved with probability $1 - p$. After $m$ applications of the depolarizing channel, the probability of the state being preserved would be $(1 - p)^m$. Therefore, we expect the probability of retaining the correct state at the end of the simulation to go down exponentially with the number of CX gates in our circuit.\n",
    "\n",
    "Let's count the number of CX gates in our circuit and compute $(1 - p)^m$. Because our circuit uses the EfficientSU2 class, we'll need to call `decompose` once to decompose it into CX gates. We call `count_ops` to get a dictionary that maps gate names to counts, and retrieve the entry for the CX gate.\n"
   ]
  },
  {
   "cell_type": "code",
   "execution_count": 4,
   "id": "da0825c8-bb39-449b-bd1a-c649bf99ccea",
   "metadata": {},
   "outputs": [
    {
     "data": {
      "text/plain": [
       "0.6542558123199923"
      ]
     },
     "execution_count": 4,
     "metadata": {},
     "output_type": "execute_result"
    }
   ],
   "source": [
    "cx_count = circuit.decompose().count_ops()[\"cx\"]\n",
    "(1 - cx_depolarizing_prob) ** cx_count"
   ]
  },
  {
   "cell_type": "markdown",
   "id": "79d89e68-e869-4f40-b0ba-9ecf5408e4e1",
   "metadata": {},
   "source": [
    "This value, 65%, gives a rough estimate of the probability that our final state is correct. It is a conservative estimate because it does not take into account the initial state of the simulation. To get a more concrete estimate of how much our final state deviates from the correct state, let's use the [Sampler](https://qiskit.org/ecosystem/aer/stubs/qiskit_aer.primitives.Sampler.html) primitive to estimate the final measurement probability distributions with and without noise, and then compute the fidelity between these distributions. When running the Sampler, we pass `shots=None` to request a final distribution that does not include random sampling error.\n"
   ]
  },
  {
   "cell_type": "code",
   "execution_count": 5,
   "id": "67d9ec0a-f301-45ae-a42e-7849708cdf76",
   "metadata": {},
   "outputs": [
    {
     "data": {
      "text/plain": [
       "0.8917750028756636"
      ]
     },
     "execution_count": 5,
     "metadata": {},
     "output_type": "execute_result"
    }
   ],
   "source": [
    "import math\n",
    "from qiskit.result import ProbDistribution\n",
    "from qiskit_aer.primitives import Sampler\n",
    "\n",
    "\n",
    "measured_circuit = circuit.copy()\n",
    "measured_circuit.measure_all()\n",
    "\n",
    "# Get exact probability distribution\n",
    "exact_sampler = Sampler()\n",
    "job = exact_sampler.run(measured_circuit, params, shots=None)\n",
    "exact_quasis = job.result().quasi_dists[0]\n",
    "exact_probs = exact_quasis.nearest_probability_distribution()\n",
    "\n",
    "# Get noisy probability distribution\n",
    "noisy_sampler = Sampler(backend_options={\"noise_model\": noise_model})\n",
    "job = noisy_sampler.run(measured_circuit, params, shots=None)\n",
    "noisy_quasis = job.result().quasi_dists[0]\n",
    "noisy_probs = noisy_quasis.nearest_probability_distribution()\n",
    "\n",
    "\n",
    "# Compute fidelity\n",
    "def fidelity(dist1: ProbDistribution, dist2: ProbDistribution) -> float:\n",
    "    result = 0\n",
    "    for bitstring in dist1 | dist2:\n",
    "        prob1 = dist1.get(bitstring, 0)\n",
    "        prob2 = dist2.get(bitstring, 0)\n",
    "        result += math.sqrt(prob1 * prob2)\n",
    "    return result**2\n",
    "\n",
    "\n",
    "fidelity(exact_probs, noisy_probs)"
   ]
  },
  {
   "cell_type": "markdown",
   "id": "cacfff0e-fa05-462b-8d57-39c386871bb4",
   "metadata": {},
   "source": [
    "## Next steps\n",
    "\n",
    "<Admonition type=\"tip\" title=\"Recommendations\">\n",
    "  *   To simulate small, simple circuits, see [Exact simulation with Qiskit primitives](simulate-with-qiskit-primitives).\n",
    "\n",
    "  *   Review the [Qiskit Aer](https://qiskit.org/ecosystem/aer/) documentation.\n",
    "\n",
    "  *   Learn how to run on a physical system in the [Run](../run) section.\n",
    "</Admonition>\n"
   ]
  }
 ],
 "metadata": {
  "description": "Learn how to do exact and noisy simulation of quantum programs with Qiskit Aer primitives",
  "kernelspec": {
   "display_name": "Python 3 (ipykernel)",
   "language": "python",
   "name": "python3"
  },
  "language_info": {
   "codemirror_mode": {
    "name": "ipython",
    "version": 3
   },
   "file_extension": ".py",
   "mimetype": "text/x-python",
   "name": "python",
   "nbconvert_exporter": "python",
   "pygments_lexer": "ipython3",
   "version": "3.7.16"
  },
  "title": "Exact and noisy simulation with Qiskit Aer primitives"
 },
 "nbformat": 4,
 "nbformat_minor": 2
}
