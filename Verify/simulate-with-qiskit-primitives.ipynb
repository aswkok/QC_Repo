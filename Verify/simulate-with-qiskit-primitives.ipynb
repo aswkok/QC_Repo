{
 "cells": [
  {
   "cell_type": "raw",
   "id": "a99a7ded",
   "metadata": {},
   "source": [
    "---\n",
    "title: Exact simulation with Qiskit primitives\n",
    "description: How to perform exact simulation of quantum circuits using primitives in Qiskit.\n",
    "---"
   ]
  },
  {
   "cell_type": "markdown",
   "id": "ebba3181-4a32-4dfb-b5a0-d4c65b138ce6",
   "metadata": {},
   "source": [
    "# Exact simulation with Qiskit primitives\n",
    "\n",
    "The reference primitives in Qiskit can perform local statevector simulations, which is useful for quickly prototyping algorithms. \n",
    "\n",
    "The `Estimator` primitive can compute an expectation value, and the `Sampler` primitive can compute circuit output probabilities. "
   ]
  },
  {
   "cell_type": "code",
   "execution_count": null,
   "id": "8aff816c-50fd-4cd3-9cb8-6708ef71042e",
   "metadata": {},
   "outputs": [],
   "source": []
  },
  {
   "cell_type": "markdown",
   "id": "1535ca5c-1992-484e-aac3-acf2aa1de4e8",
   "metadata": {},
   "source": [
    "## Compute circuit output probabilities with `Sampler` primitive\n",
    "\n",
    "Follow these instructions to get the probability distribution of a quantum circuit with the [`qiskit.primitives.Sampler`](../api/qiskit/qiskit.primitives.Sampler) primitive.\n",
    "\n",
    "<Admonition type=\"note\">\n",
    "  While this guide uses Qiskit’s reference implementation, the `Sampler` primitive can be run with any provider using [`qiskit.primitives.BackendSampler`](../api/qiskit/qiskit.primitives.BackendSampler).\n",
    "\n",
    "  ```python\n",
    "  from qiskit.primitives import BackendSampler\n",
    "  from <some_qiskit_provider> import QiskitProvider\n",
    "\n",
    "  provider = QiskitProvider()\n",
    "  backend = provider.get_backend('backend_name')\n",
    "  sampler = BackendSampler(backend)\n",
    "  ```\n",
    "\n",
    "  There are some providers that implement primitives natively (see [the Qiskit Ecosystem page](https://qiskit.github.io/ecosystem#providers) for more details).\n",
    "</Admonition>\n",
    "\n",
    "### Initialize QuantumCircuit\n",
    "\n",
    "The first step is to create the [`qiskit.circuit.QuantumCircuit`](../api/qiskit/qiskit.circuit.QuantumCircuit)s from which you want to obtain the probability distribution."
   ]
  },
  {
   "cell_type": "markdown",
   "id": "33758091-5f70-419b-82eb-792cfd27bb8c",
   "metadata": {},
   "source": [
    "## Compute an expectation value with the `Estimator` primitive\n",
    "\n",
    "Follow these instructions to get the expected value of an observable for a given quantum circuit with the [`qiskit.primitives.Estimator`](../api/qiskit/qiskit.primitives.Estimator) primitive.\n",
    "\n",
    "<Admonition type=\"note\">\n",
    "  While this guide uses Qiskit’s reference implementation, the `Estimator` primitive can be run with any provider using [`qiskit.primitives.BackendEstimator`](../api/qiskit/qiskit.primitives.BackendEstimator).\n",
    "\n",
    "  ```python\n",
    "  from qiskit.primitives import BackendEstimator\n",
    "  from <some_qiskit_provider> import QiskitProvider\n",
    "\n",
    "  provider = QiskitProvider()\n",
    "  backend = provider.get_backend('backend_name')\n",
    "  estimator = BackendEstimator(backend)\n",
    "  ```\n",
    "\n",
    "  There are some providers that implement primitives natively (see [the Qiskit Ecosystem page](https://qiskit.github.io/ecosystem/#primitives) for more details).\n",
    "</Admonition>\n",
    "\n",
    "### Initialize observables\n",
    "\n",
    "The first step is to define the observables whose expected value you want to compute. Each observable can be any `BaseOperator`, like the operators from [`qiskit.quantum_info`](../api/qiskit/quantum_info).\n",
    "Among them it is preferable to use [`qiskit.quantum_info.SparsePauliOp`](../api/qiskit/qiskit.quantum_info.SparsePauliOp)."
   ]
  },
  {
   "cell_type": "code",
   "execution_count": 1,
   "id": "853bb18a",
   "metadata": {},
   "outputs": [],
   "source": [
    "from qiskit.quantum_info import SparsePauliOp\n",
    "\n",
    "observable = SparsePauliOp([\"II\", \"XX\", \"YY\", \"ZZ\"], coeffs=[1, 1, -1, 1])"
   ]
  },
  {
   "cell_type": "markdown",
   "id": "f90cb9cb",
   "metadata": {},
   "source": [
    "### Initialize QuantumCircuit\n",
    "\n",
    "Next, create the [`qiskit.circuit.QuantumCircuit`](../api/qiskit/qiskit.circuit.QuantumCircuit) for which you want to obtain the expected value."
   ]
  },
  {
   "cell_type": "code",
   "execution_count": 2,
   "id": "83987777",
   "metadata": {},
   "outputs": [
    {
     "data": {
      "image/png": "[encoded data removed]",
      "text/plain": [
       "<Figure size 287.294x200.667 with 1 Axes>"
      ]
     },
     "execution_count": 2,
     "metadata": {},
     "output_type": "execute_result"
    }
   ],
   "source": [
    "from qiskit import QuantumCircuit\n",
    "\n",
    "qc = QuantumCircuit(2)\n",
    "qc.h(0)\n",
    "qc.cx(0,1)\n",
    "qc.draw(\"mpl\", style=\"iqp\")"
   ]
  },
  {
   "cell_type": "markdown",
   "id": "d8ab6a1b",
   "metadata": {},
   "source": [
    "![Initial QuantumCircuit](/images/verify/simulate-with-qiskit-primitives/estimator-initialize.png \"Initial QuantumCircuit\")\n",
    "\n",
    "<Admonition type=\"note\">\n",
    "  The [`qiskit.circuit.QuantumCircuit`](../api/qiskit/qiskit.circuit.QuantumCircuit) you pass to [`qiskit.primitives.Estimator`](../api/qiskit/qiskit.primitives.Estimator) must not include any measurements.\n",
    "</Admonition>\n",
    "\n",
    "### Initialize `Estimator`\n",
    "\n",
    "Next, instantiate an [`qiskit.primitives.Estimator`](../api/qiskit/qiskit.primitives.Estimator)."
   ]
  },
  {
   "cell_type": "code",
   "execution_count": 3,
   "id": "741d3a3d",
   "metadata": {},
   "outputs": [],
   "source": [
    "from qiskit.primitives import Estimator\n",
    "\n",
    "estimator = Estimator()"
   ]
  },
  {
   "cell_type": "markdown",
   "id": "4842fab9",
   "metadata": {},
   "source": [
    "### Run and get results\n",
    "\n",
    "Now that you have defined your `estimator`, you can run your estimation by calling the [`qiskit.primitives.Estimator.run`](../api/qiskit/qiskit.primitives.Estimator#run) method,\n",
    "which returns an instance of [`qiskit.providers.JobV1`](../api/qiskit/qiskit.providers.JobV1). You can get the results from the job (as a [`qiskit.primitives.EstimatorResult`](../api/qiskit/qiskit.primitives.EstimatorResult) object)\n",
    "with the [`qiskit.providers.JobV1.result`](../api/qiskit/qiskit.providers.JobV1#result) method."
   ]
  },
  {
   "cell_type": "code",
   "execution_count": 4,
   "id": "3ff853b7",
   "metadata": {},
   "outputs": [
    {
     "name": "stdout",
     "output_type": "stream",
     "text": [
      "EstimatorResult(values=array([4.]), metadata=[{}])\n"
     ]
    }
   ],
   "source": [
    "job = estimator.run(qc, observable)\n",
    "result = job.result()\n",
    "print(result)"
   ]
  },
  {
   "cell_type": "markdown",
   "id": "8b86fb0d",
   "metadata": {},
   "source": [
    "This example only uses one [`qiskit.circuit.QuantumCircuit`](../api/qiskit/qiskit.circuit.QuantumCircuit) and one observable. If you want to get expectation values for multiple circuits and observables, you can pass a `list` of [`qiskit.circuit.QuantumCircuit`](../api/qiskit/qiskit.circuit.QuantumCircuit)s and a list of `BaseOperator`s to the [`qiskit.primitives.Estimator.run`](../api/qiskit/qiskit.primitives.Estimator#run) method. Both `list`s must have the same length.\n",
    "\n",
    "#### Get the expected value\n",
    "\n",
    "From these results you can extract the expected values with the attribute [`qiskit.primitives.EstimatorResult.values`](../api/qiskit/qiskit.primitives.EstimatorResult#values).\n",
    "\n",
    "[`qiskit.primitives.EstimatorResult.values`](../api/qiskit/qiskit.primitives.EstimatorResult#values) returns a `numpy.ndarray`\n",
    "whose `i`<sup>th</sup> element is the expectation value corresponding to the `i`<sup>th</sup> circuit and `i`<sup>th</sup> observable."
   ]
  },
  {
   "cell_type": "code",
   "execution_count": 6,
   "id": "8ab23c72",
   "metadata": {},
   "outputs": [
    {
     "name": "stdout",
     "output_type": "stream",
     "text": [
      "3.999999999999999\n"
     ]
    }
   ],
   "source": [
    "exp_value = result.values[0]\n",
    "print(exp_value)"
   ]
  },
  {
   "cell_type": "markdown",
   "id": "cef72eee",
   "metadata": {},
   "source": [
    "### Parameterized circuit with `Estimator`\n",
    "\n",
    "The [`qiskit.primitives.Estimator`](../api/qiskit/qiskit.primitives.Estimator) primitive can be run with unbound parameterized circuits like the one below.\n",
    "You can also manually bind values to the parameters of the circuit and follow the steps of the previous example."
   ]
  },
  {
   "cell_type": "code",
   "execution_count": 7,
   "id": "a2496864",
   "metadata": {},
   "outputs": [
    {
     "name": "stdout",
     "output_type": "stream",
     "text": [
      "     ┌───────┐     \n",
      "q_0: ┤ Ry(θ) ├──■──\n",
      "     └───────┘┌─┴─┐\n",
      "q_1: ─────────┤ X ├\n",
      "              └───┘\n"
     ]
    }
   ],
   "source": [
    "from qiskit.circuit import Parameter\n",
    "\n",
    "theta = Parameter('θ')\n",
    "param_qc = QuantumCircuit(2)\n",
    "param_qc.ry(theta, 0)\n",
    "param_qc.cx(0,1)\n",
    "print(param_qc.draw(style=\"iqp\"))"
   ]
  },
  {
   "cell_type": "markdown",
   "id": "f143211f",
   "metadata": {},
   "source": [
    "```\n",
    "     ┌───────┐\n",
    "q_0: ┤ Ry(θ) ├──■──\n",
    "     └───────┘┌─┴─┐\n",
    "q_1: ─────────┤ X ├\n",
    "              └───┘\n",
    "```\n",
    "\n",
    "The main difference with the previous case is that now you need to specify the sets of parameter values for which you want to evaluate the expectation value as a `list` of `list`s of `float`s.\n",
    "The `i`<sup>th</sup> element of the outer `list` is the set of parameter values that corresponds to the `i`<sup>th</sup> circuit and observable."
   ]
  },
  {
   "cell_type": "code",
   "execution_count": 8,
   "id": "47bb4981",
   "metadata": {},
   "outputs": [
    {
     "name": "stdout",
     "output_type": "stream",
     "text": [
      "Parameter: 0.00000\t Expectation value: 2.0\n",
      "Parameter: 0.52360\t Expectation value: 3.0\n",
      "Parameter: 1.57080\t Expectation value: 4.0\n"
     ]
    }
   ],
   "source": [
    "import numpy as np\n",
    "\n",
    "parameter_values = [[0], [np.pi/6], [np.pi/2]]\n",
    "\n",
    "job = estimator.run([param_qc]*3, [observable]*3, parameter_values=parameter_values)\n",
    "values = job.result().values\n",
    "\n",
    "for i in range(3):\n",
    "    print(f\"Parameter: {parameter_values[i][0]:.5f}\\t Expectation value: {values[i]}\")"
   ]
  },
  {
   "cell_type": "markdown",
   "id": "b6e586cb",
   "metadata": {},
   "source": [
    "\n",
    "\n",
    "### Change run options\n",
    "\n",
    "Your workflow might require tuning primitive run options, such as the number of shots.\n",
    "\n",
    "By default, the reference [`qiskit.primitives.Estimator`](../api/qiskit/qiskit.primitives.Estimator) class performs an exact statevector calculation based on the [`qiskit.quantum_info.Statevector`](../api/qiskit/qiskit.quantum_info.Statevector) class. However, this can be modified to include shot noise if the number of `shots` is set. For reproducibility purposes, a `seed` will also be set in the following examples.\n",
    "\n",
    "There are two main ways of setting options in the [`qiskit.primitives.Estimator`](../api/qiskit/qiskit.primitives.Estimator):\n",
    "\n",
    "- Set keyword arguments in the [`qiskit.primitives.Estimator.run`](../api/qiskit/qiskit.primitives.Estimator#run) method.\n",
    "- Modify [`qiskit.primitives.Estimator`](../api/qiskit/qiskit.primitives.Estimator) options.\n",
    "\n",
    "#### Set keyword arguments for [`qiskit.primitives.Estimator.run`](../api/qiskit/qiskit.primitives.Estimator#run)\n",
    "\n",
    "If you only want to change the settings for a specific run, it can be more convenient to set the options inside the [`qiskit.primitives.Estimator.run`](../api/qiskit/qiskit.primitives.Estimator#run) method. You can do this by passing them as keyword arguments."
   ]
  },
  {
   "cell_type": "code",
   "execution_count": 9,
   "id": "57ab8fe4",
   "metadata": {},
   "outputs": [
    {
     "name": "stdout",
     "output_type": "stream",
     "text": [
      "EstimatorResult(values=array([4.]), metadata=[{'variance': 3.552713678800501e-15, 'shots': 2048}])\n"
     ]
    }
   ],
   "source": [
    "job = estimator.run(qc, observable, shots=2048, seed=123)\n",
    "result = job.result()\n",
    "print(result)"
   ]
  },
  {
   "cell_type": "code",
   "execution_count": 10,
   "id": "302e17de",
   "metadata": {},
   "outputs": [
    {
     "name": "stdout",
     "output_type": "stream",
     "text": [
      "3.999999998697238\n"
     ]
    }
   ],
   "source": [
    "print(result.values[0])"
   ]
  },
  {
   "cell_type": "markdown",
   "id": "0a236a2c",
   "metadata": {},
   "source": [
    "#### Modify [`qiskit.primitives.Estimator`](../api/qiskit/qiskit.primitives.Estimator) options\n",
    "\n",
    "If you want to keep some configuration values for several runs, it can be better to change the [`qiskit.primitives.Estimator`](../api/qiskit/qiskit.primitives.Estimator) options. That way you can use the same [`qiskit.primitives.Estimator`](../api/qiskit/qiskit.primitives.Estimator) object as many times as you wish without having to\n",
    "rewrite the configuration values every time you use [`qiskit.primitives.Estimator.run`](../api/qiskit/qiskit.primitives.Estimator#run).\n",
    "\n",
    "#### Modify existing [`qiskit.primitives.Estimator`](../api/qiskit/qiskit.primitives.Estimator)\n",
    "\n",
    "If you prefer to change the options of an already-defined [`qiskit.primitives.Estimator`](../api/qiskit/qiskit.primitives.Estimator), you can use the method [`qiskit.primitives.Estimator.set_options`](../api/qiskit/qiskit.primitives.Estimator#set_options) and introduce the new options as keyword arguments."
   ]
  },
  {
   "cell_type": "code",
   "execution_count": 11,
   "id": "6e0f88df",
   "metadata": {},
   "outputs": [
    {
     "name": "stdout",
     "output_type": "stream",
     "text": [
      "EstimatorResult(values=array([4.]), metadata=[{'variance': 3.552713678800501e-15, 'shots': 2048}])\n"
     ]
    }
   ],
   "source": [
    "estimator.set_options(shots=2048, seed=123)\n",
    "\n",
    "job = estimator.run(qc, observable)\n",
    "result = job.result()\n",
    "print(result)"
   ]
  },
  {
   "cell_type": "code",
   "execution_count": 12,
   "id": "5b1bcb94",
   "metadata": {},
   "outputs": [
    {
     "name": "stdout",
     "output_type": "stream",
     "text": [
      "3.999999998697238\n"
     ]
    }
   ],
   "source": [
    "print(result.values[0])"
   ]
  },
  {
   "cell_type": "markdown",
   "id": "1a29f0ff",
   "metadata": {},
   "source": [
    "#### Define a new [`qiskit.primitives.Estimator`](../api/qiskit/qiskit.primitives.Estimator) with the options\n",
    "\n",
    "If you prefer to define a new [`qiskit.primitives.Estimator`](../api/qiskit/qiskit.primitives.Estimator) with new options, define a `dict` like this one:"
   ]
  },
  {
   "cell_type": "code",
   "execution_count": 13,
   "id": "2616dc1a",
   "metadata": {},
   "outputs": [],
   "source": [
    "options = {\"shots\": 2048, \"seed\": 123}"
   ]
  },
  {
   "cell_type": "markdown",
   "id": "f37b6193",
   "metadata": {},
   "source": [
    "You can then introduce it into your new [`qiskit.primitives.Estimator`](../api/qiskit/qiskit.primitives.Estimator) with the `options` argument."
   ]
  },
  {
   "cell_type": "code",
   "execution_count": 14,
   "id": "e12b1eef",
   "metadata": {},
   "outputs": [
    {
     "name": "stdout",
     "output_type": "stream",
     "text": [
      "EstimatorResult(values=array([4.]), metadata=[{'variance': 3.552713678800501e-15, 'shots': 2048}])\n"
     ]
    }
   ],
   "source": [
    "estimator = Estimator(options=options)\n",
    "\n",
    "job = estimator.run(qc, observable)\n",
    "result = job.result()\n",
    "print(result)"
   ]
  },
  {
   "cell_type": "code",
   "execution_count": 15,
   "id": "2804d16e",
   "metadata": {},
   "outputs": [
    {
     "name": "stdout",
     "output_type": "stream",
     "text": [
      "3.999999998697238\n"
     ]
    }
   ],
   "source": [
    "print(result.values[0])"
   ]
  },
  {
   "cell_type": "code",
   "execution_count": null,
   "id": "301df52f",
   "metadata": {},
   "outputs": [],
   "source": [
    "from qiskit import QuantumCircuit\n",
    "\n",
    "qc = QuantumCircuit(2)\n",
    "qc.h(0)\n",
    "qc.cx(0,1)\n",
    "qc.measure_all()\n",
    "qc.draw(\"mpl\", style=\"iqp\")"
   ]
  },
  {
   "cell_type": "markdown",
   "id": "17a89b81",
   "metadata": {},
   "source": [
    "![Initial QuantumCircuit](/images/verify/simulate-with-qiskit-primitives/sampler-initialize.png \"Initial QuantumCircuit\")\n",
    "\n",
    "<Admonition type=\"note\">\n",
    "The [`qiskit.circuit.QuantumCircuit`](../api/qiskit/qiskit.circuit.QuantumCircuit) you pass to [`qiskit.primitives.Sampler`](../api/qiskit/qiskit.primitives.Sampler) must include measurements.\n",
    "</Admonition>\n",
    "\n",
    "### Initialize `Sampler`\n",
    "\n",
    "Next, create a [`qiskit.primitives.Sampler`](../api/qiskit/qiskit.primitives.Sampler) instance."
   ]
  },
  {
   "cell_type": "code",
   "execution_count": null,
   "id": "06245c09",
   "metadata": {},
   "outputs": [],
   "source": [
    "from qiskit.primitives import Sampler\n",
    "\n",
    "sampler = Sampler()"
   ]
  },
  {
   "cell_type": "markdown",
   "id": "e572b4da",
   "metadata": {},
   "source": [
    "### Run and get results\n",
    "\n",
    "Now that you have defined your `sampler`, run it by calling the [`qiskit.primitives.Sampler.run`](../api/qiskit/qiskit.primitives.Sampler#run) method, which returns an instance of [`qiskit.providers.JobV1`](../api/qiskit/qiskit.providers.JobV1). You can get the results from the job (as a [`qiskit.primitives.SamplerResult`](../api/qiskit/qiskit.primitives.SamplerResult) object) with the [`qiskit.providers.JobV1.result`](../api/qiskit/qiskit.providers.JobV1#result) method."
   ]
  },
  {
   "cell_type": "code",
   "execution_count": null,
   "id": "bf62f632",
   "metadata": {},
   "outputs": [],
   "source": [
    "job = sampler.run(qc)\n",
    "result = job.result()\n",
    "print(result)"
   ]
  },
  {
   "cell_type": "code",
   "execution_count": null,
   "id": "8bc4adbc",
   "metadata": {},
   "outputs": [],
   "source": [
    "SamplerResult(quasi_dists=[{0: 0.4999999999999999, 3: 0.4999999999999999}], metadata=[{}])"
   ]
  },
  {
   "cell_type": "markdown",
   "id": "ab75f900",
   "metadata": {},
   "source": [
    "While this example only uses one [`qiskit.circuit.QuantumCircuit`](../api/qiskit/qiskit.circuit.QuantumCircuit), you can sample multiple circuits by passing a `list` of [`qiskit.circuit.QuantumCircuit`](../api/qiskit/qiskit.circuit.QuantumCircuit) instances to the [`qiskit.primitives.Sampler.run`](../api/qiskit/qiskit.primitives.Sampler#run) method.\n",
    "\n",
    "### Get the probability distribution\n",
    "\n",
    "From these results you can extract the quasi-probability distributions with the attribute [`qiskit.primitives.SamplerResult.quasi_dists`](../api/qiskit/qiskit.primitives.SamplerResult#quasi_dists).\n",
    "\n",
    "Even though there is only one circuit in this example, [`qiskit.primitives.SamplerResult.quasi_dists`](../api/qiskit/qiskit.primitives.SamplerResult#quasi_dists) returns a list of [`qiskit.result.QuasiDistribution`](../api/qiskit/qiskit.result.QuasiDistribution)s.\n",
    "`result.quasi_dists[i]` is the quasi-probability distribution of the `i`<sup>th</sup> circuit.\n",
    "\n",
    "<Admonition type=\"note\">\n",
    "A quasi-probability distribution differs from a probability distribution in that negative values are also allowed.\n",
    "However, the quasi-probabilities must sum up to 1 like probabilities.\n",
    "Negative quasi-probabilities may appear when using error mitigation techniques.\n",
    "</Admonition>"
   ]
  },
  {
   "cell_type": "code",
   "execution_count": null,
   "id": "139d5793",
   "metadata": {},
   "outputs": [],
   "source": [
    "quasi_dist = result.quasi_dists[0]\n",
    "print(quasi_dist)"
   ]
  },
  {
   "cell_type": "code",
   "execution_count": null,
   "id": "b79821a3",
   "metadata": {},
   "outputs": [],
   "source": [
    "{0: 0.4999999999999999, 3: 0.4999999999999999}"
   ]
  },
  {
   "cell_type": "markdown",
   "id": "9b5024d2",
   "metadata": {},
   "source": [
    "#### Probability distribution with binary outputs\n",
    "\n",
    "If you prefer to see the output keys as binary strings instead of decimal numbers, you can use the [`qiskit.result.QuasiDistribution.binary_probabilities`](../api/qiskit/qiskit.result.QuasiDistribution#binary_probabilities) method."
   ]
  },
  {
   "cell_type": "code",
   "execution_count": null,
   "id": "321331f3",
   "metadata": {},
   "outputs": [],
   "source": [
    "print(quasi_dist.binary_probabilities())"
   ]
  },
  {
   "cell_type": "code",
   "execution_count": null,
   "id": "2ad2918e",
   "metadata": {},
   "outputs": [],
   "source": [
    "{'00': 0.4999999999999999, '11': 0.4999999999999999}"
   ]
  },
  {
   "cell_type": "markdown",
   "id": "8b1a24f7",
   "metadata": {},
   "source": [
    "### Parameterized circuit with `Sampler`\n",
    "\n",
    "The [`qiskit.primitives.Sampler`](../api/qiskit/qiskit.primitives.Sampler) primitive can be run with unbound parameterized circuits like the one below.\n",
    "You can also manually bind values to the parameters of the circuit and follow the steps of the previous example."
   ]
  },
  {
   "cell_type": "code",
   "execution_count": null,
   "id": "3868e61f",
   "metadata": {},
   "outputs": [],
   "source": [
    "from qiskit.circuit import Parameter\n",
    "\n",
    "theta = Parameter('θ')\n",
    "param_qc = QuantumCircuit(2)\n",
    "param_qc.ry(theta, 0)\n",
    "param_qc.cx(0,1)\n",
    "param_qc.measure_all()\n",
    "print(param_qc.draw(style=\"iqp\"))"
   ]
  },
  {
   "cell_type": "markdown",
   "id": "ce4cf144",
   "metadata": {},
   "source": [
    "```\n",
    "          ┌───────┐      ░ ┌─┐   \n",
    "     q_0: ┤ Ry(θ) ├──■───░─┤M├───\n",
    "          └───────┘┌─┴─┐ ░ └╥┘┌─┐\n",
    "     q_1: ─────────┤ X ├─░──╫─┤M├\n",
    "                   └───┘ ░  ║ └╥┘\n",
    "  meas: 2/══════════════════╩══╩═\n",
    "                            0  1 \n",
    "```\n",
    "\n",
    "The main difference from the previous case is that now you need to specify the sets of parameter values for which you want to evaluate the expectation value as a `list` of `list`s of `float`s. The `i`<sup>th</sup> element of the outer `list` is the set of parameter values that corresponds to the `i`<sup>th</sup> circuit."
   ]
  },
  {
   "cell_type": "code",
   "execution_count": null,
   "id": "3a685707",
   "metadata": {},
   "outputs": [],
   "source": [
    "import numpy as np\n",
    "\n",
    "parameter_values = [[0], [np.pi/6], [np.pi/2]]\n",
    "\n",
    "job = sampler.run([param_qc]*3, parameter_values=parameter_values)\n",
    "dists = job.result().quasi_dists\n",
    "\n",
    "for i in range(3):\n",
    "    print(f\"Parameter: {parameter_values[i][0]:.5f}\\t Probabilities: {dists[i]}\")"
   ]
  },
  {
   "cell_type": "markdown",
   "id": "56f2a17f",
   "metadata": {},
   "source": [
    "```\n",
    "Parameter: 0.00000   Probabilities: {0: 1.0}\n",
    "Parameter: 0.52360   Probabilities: {0: 0.9330127018922194, 3: 0.0669872981077807}\n",
    "Parameter: 1.57080   Probabilities: {0: 0.5000000000000001, 3: 0.4999999999999999}\n",
    "```\n",
    "\n",
    "### Change run options\n",
    "\n",
    "Your workflow might require tuning primitive run options, such as the number of shots.\n",
    "\n",
    "By default, the reference [`qiskit.primitives.Sampler`](../api/qiskit/qiskit.primitives.Sampler) class performs an exact statevector\n",
    "calculation based on the [`qiskit.quantum_info.Statevector`](../api/qiskit/qiskit.quantum_info.Statevector) class. However, this can be\n",
    "modified to include shot noise if the number of `shots` is set.\n",
    "For reproducibility purposes, a `seed` will also be set in the following examples.\n",
    "\n",
    "There are two main ways of setting options in the [`qiskit.primitives.Sampler`](../api/qiskit/qiskit.primitives.Sampler):\n",
    "\n",
    "- Set keyword arguments in the [`qiskit.primitives.Sampler.run`](../api/qiskit/qiskit.primitives.Sampler#run) method.\n",
    "- Modify [`qiskit.primitives.Sampler`](../api/qiskit/qiskit.primitives.Sampler) options.\n",
    "\n",
    "#### Set keyword arguments for [`qiskit.primitives.Sampler.run`](../api/qiskit/qiskit.primitives.Sampler#run)\n",
    "\n",
    "If you only want to change the settings for a specific run, it can be more convenient to set the options inside the [`qiskit.primitives.Sampler.run`](../api/qiskit/qiskit.primitives.Sampler#run) method. You can do this by passing them as keyword arguments."
   ]
  },
  {
   "cell_type": "code",
   "execution_count": null,
   "id": "4fbd335d",
   "metadata": {},
   "outputs": [],
   "source": [
    "job = sampler.run(qc, shots=2048, seed=123)\n",
    "result = job.result()\n",
    "print(result)"
   ]
  },
  {
   "cell_type": "code",
   "execution_count": null,
   "id": "5d11b638",
   "metadata": {},
   "outputs": [],
   "source": [
    "SamplerResult(quasi_dists=[{0: 0.5205078125, 3: 0.4794921875}], metadata=[{'shots': 2048}])"
   ]
  },
  {
   "cell_type": "markdown",
   "id": "2f67f9dc",
   "metadata": {},
   "source": [
    "#### Modify [`qiskit.primitives.Sampler`](../api/qiskit/qiskit.primitives.Sampler) options\n",
    "\n",
    "If you want to keep some configuration values for several runs, it can be better to change the [`qiskit.primitives.Sampler`](../api/qiskit/qiskit.primitives.Sampler) options. That way you can use the same [`qiskit.primitives.Sampler`](../api/qiskit/qiskit.primitives.Sampler) object as many times as you wish without having to rewrite the configuration values every time you use [`qiskit.primitives.Sampler.run`](../api/qiskit/qiskit.primitives.Sampler#run).\n",
    "\n",
    "#### Modify existing [`qiskit.primitives.Sampler`](../api/qiskit/qiskit.primitives.Sampler)\n",
    "\n",
    "If you prefer to change the options of an already-defined [`qiskit.primitives.Sampler`](../api/qiskit/qiskit.primitives.Sampler), you can use [`qiskit.primitives.Sampler.set_options`](../api/qiskit/qiskit.primitives.Sampler#set_options) and introduce the new options as keyword arguments."
   ]
  },
  {
   "cell_type": "code",
   "execution_count": null,
   "id": "70427f2c",
   "metadata": {},
   "outputs": [],
   "source": [
    "sampler.set_options(shots=2048, seed=123)\n",
    "\n",
    "job = sampler.run(qc)\n",
    "result = job.result()\n",
    "print(result)"
   ]
  },
  {
   "cell_type": "code",
   "execution_count": null,
   "id": "d9b4c267",
   "metadata": {},
   "outputs": [],
   "source": [
    "SamplerResult(quasi_dists=[{0: 0.5205078125, 3: 0.4794921875}], metadata=[{'shots': 2048}])"
   ]
  },
  {
   "cell_type": "markdown",
   "id": "cb4e20f4",
   "metadata": {},
   "source": [
    "#### Define a new [`qiskit.primitives.Sampler`](../api/qiskit/qiskit.primitives.Sampler) with the options\n",
    "\n",
    "If you prefer to define a new [`qiskit.primitives.Sampler`](../api/qiskit/qiskit.primitives.Sampler) with new options, define a `dict` like this one:"
   ]
  },
  {
   "cell_type": "code",
   "execution_count": null,
   "id": "42e77db7",
   "metadata": {},
   "outputs": [],
   "source": [
    "options = {\"shots\": 2048, \"seed\": 123}"
   ]
  },
  {
   "cell_type": "markdown",
   "id": "4610446e",
   "metadata": {},
   "source": [
    "You can then introduce it into your new [`qiskit.primitives.Sampler`](../api/qiskit/qiskit.primitives.Sampler) with the `options` argument."
   ]
  },
  {
   "cell_type": "code",
   "execution_count": null,
   "id": "183f964f",
   "metadata": {},
   "outputs": [],
   "source": [
    "sampler = Sampler(options=options)\n",
    "\n",
    "job = sampler.run(qc)\n",
    "result = job.result()\n",
    "print(result)"
   ]
  },
  {
   "cell_type": "code",
   "execution_count": null,
   "id": "499e7f90",
   "metadata": {},
   "outputs": [],
   "source": [
    "SamplerResult(quasi_dists=[{0: 0.5205078125, 3: 0.4794921875}], metadata=[{'shots': 2048}])"
   ]
  },
  {
   "cell_type": "markdown",
   "id": "f5363009",
   "metadata": {},
   "source": [
    "## Next steps\n",
    "\n",
    "<Admonition type=\"tip\" title=\"Recommendations\">\n",
    "  - For higher-performance simulation that can handle larger circuits, or to incorporate noise models into your simulation, see [Exact and noisy simulation with Qiskit Aer primitives](simulate-with-qiskit-aer).\n",
    "  - To learn how to use Quantum Composer for simulation, try the [Explore gates and circuits with the Quantum Composer](https://learning.quantum.ibm.com/tutorial/explore-gates-and-circuits-with-the-quantum-composer) tutorial.\n",
    "  - Read the [Qiskit Estimator API](/api/qiskit/qiskit.primitives.Estimator) reference.\n",
    "  - Read the [Qiskit Sampler API](/api/qiskit/qiskit.primitives.Sampler) reference.\n",
    "  - Learn how to run on a physical system in the [Run](../run) section.\n",
    "</Admonition>"
   ]
  }
 ],
 "metadata": {
  "jupytext": {
   "cell_metadata_filter": "-all",
   "main_language": "python",
   "notebook_metadata_filter": "-all"
  },
  "kernelspec": {
   "display_name": "Python 3 (ipykernel)",
   "language": "python",
   "name": "python3"
  },
  "language_info": {
   "codemirror_mode": {
    "name": "ipython",
    "version": 3
   },
   "file_extension": ".py",
   "mimetype": "text/x-python",
   "name": "python",
   "nbconvert_exporter": "python",
   "pygments_lexer": "ipython3",
   "version": "3.8.19"
  }
 },
 "nbformat": 4,
 "nbformat_minor": 5
}
