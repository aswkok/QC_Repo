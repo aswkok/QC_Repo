{
 "cells": [
  {
   "cell_type": "code",
   "execution_count": 1,
   "id": "d6d1f6c2-02bf-469f-b180-93bed5ead165",
   "metadata": {},
   "outputs": [],
   "source": [
    "from qiskit_aer import Aer\n",
    "\n",
    "\n",
    "from qiskit import *\n",
    "from qiskit.visualization import plot_histogram"
   ]
  },
  {
   "cell_type": "code",
   "execution_count": 2,
   "id": "e7016ca4-8270-466e-8153-08fb03992ee5",
   "metadata": {},
   "outputs": [],
   "source": [
    "# quantum circuit to make a Bell state\n",
    "bell = QuantumCircuit(2, 4)\n",
    "bell.h(0)\n",
    "bell.cx(0, 1)\n",
    " \n",
    "meas = QuantumCircuit(2, 4)\n",
    "meas.measure([0,1], [0,1])\n",
    "meas.measure([0,1], [2,3])\n",
    " \n",
    "# execute the quantum circuit\n",
    "backend = Aer.get_backend('qasm_simulator') # the device to run on\n",
    "circ = bell.compose(meas)\n",
    "result = backend.run(circ, shots=1000,seed = 42).result()"
   ]
  },
  {
   "cell_type": "code",
   "execution_count": 3,
   "id": "c9c7d814-8390-4376-a62e-b598f55c3fb1",
   "metadata": {},
   "outputs": [
    {
     "data": {
      "image/png": "[encoded data removed]",
      "text/plain": [
       "<Figure size 621.739x284.278 with 1 Axes>"
      ]
     },
     "execution_count": 3,
     "metadata": {},
     "output_type": "execute_result"
    }
   ],
   "source": [
    "circ.draw(\"mpl\")"
   ]
  },
  {
   "cell_type": "code",
   "execution_count": 4,
   "id": "ae00db64-a791-4c0c-bf87-9df5cd916851",
   "metadata": {},
   "outputs": [
    {
     "name": "stdout",
     "output_type": "stream",
     "text": [
      "Result(backend_name='qasm_simulator', backend_version='0.14.0.1', qobj_id='', job_id='4ac51520-842a-4e41-892a-050ab725dfd3', success=True, results=[ExperimentResult(shots=1000, success=True, meas_level=2, data=ExperimentResultData(counts={'0x0': 521, '0xf': 479}), header=QobjExperimentHeader(creg_sizes=[['c', 4]], global_phase=0.0, memory_slots=4, metadata={}, n_qubits=2, name='circuit-164', qreg_sizes=[['q', 2]]), status=DONE, seed_simulator=3865152462, metadata={'num_bind_params': 1, 'runtime_parameter_bind': False, 'parallel_state_update': 8, 'parallel_shots': 1, 'sample_measure_time': 0.001083636, 'noise': 'ideal', 'batched_shots_optimization': False, 'remapped_qubits': False, 'active_input_qubits': [0, 1], 'device': 'CPU', 'time_taken': 0.00240498, 'measure_sampling': True, 'num_clbits': 4, 'max_memory_mb': 16384, 'input_qubit_map': [[1, 1], [0, 0]], 'num_qubits': 2, 'method': 'stabilizer', 'required_memory_mb': 0, 'fusion': {'enabled': False}}, time_taken=0.00240498)], date=2024-04-18T20:00:02.698103, status=COMPLETED, header=None, metadata={'time_taken_parameter_binding': 2.8902e-05, 'max_memory_mb': 16384, 'time_taken_execute': 0.002491205, 'omp_enabled': True, 'max_gpu_memory_mb': 0, 'parallel_experiments': 1}, time_taken=0.007110118865966797)\n"
     ]
    }
   ],
   "source": [
    "print(result)"
   ]
  },
  {
   "cell_type": "code",
   "execution_count": 5,
   "id": "c9780925-c58a-4dfb-a9b9-ce75f8c617ca",
   "metadata": {},
   "outputs": [
    {
     "name": "stdout",
     "output_type": "stream",
     "text": [
      "{'0000': 521, '1111': 479}\n"
     ]
    }
   ],
   "source": [
    "counts  = result.get_counts(circ)\n",
    "print(counts)"
   ]
  },
  {
   "cell_type": "code",
   "execution_count": null,
   "id": "ab50eeb7-21b9-4ded-8b2a-e9993e2e1fed",
   "metadata": {},
   "outputs": [],
   "source": []
  }
 ],
 "metadata": {
  "kernelspec": {
   "display_name": "Python 3 (ipykernel)",
   "language": "python",
   "name": "python3"
  },
  "language_info": {
   "codemirror_mode": {
    "name": "ipython",
    "version": 3
   },
   "file_extension": ".py",
   "mimetype": "text/x-python",
   "name": "python",
   "nbconvert_exporter": "python",
   "pygments_lexer": "ipython3",
   "version": "3.8.19"
  }
 },
 "nbformat": 4,
 "nbformat_minor": 5
}
