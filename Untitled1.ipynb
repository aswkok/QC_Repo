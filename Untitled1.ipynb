{
 "cells": [
  {
   "cell_type": "code",
   "execution_count": 3,
   "id": "1a0e7d47-e1ea-4832-8c04-c4473bad0f83",
   "metadata": {},
   "outputs": [
    {
     "ename": "CircuitError",
     "evalue": "'num_qubits and num_clbits must be integer.'",
     "output_type": "error",
     "traceback": [
      "\u001b[0;31m---------------------------------------------------------------------------\u001b[0m",
      "\u001b[0;31mCircuitError\u001b[0m                              Traceback (most recent call last)",
      "Cell \u001b[0;32mIn[3], line 29\u001b[0m\n\u001b[1;32m     26\u001b[0m qc\u001b[38;5;241m.\u001b[39mcx(qr[\u001b[38;5;241m75\u001b[39m], qr[\u001b[38;5;241m90\u001b[39m])\n\u001b[1;32m     28\u001b[0m \u001b[38;5;66;03m# Measure in four independent groups\u001b[39;00m\n\u001b[0;32m---> 29\u001b[0m group_measure_0 \u001b[38;5;241m=\u001b[39m \u001b[43mGroupMeasure\u001b[49m\u001b[43m(\u001b[49m\u001b[43m[\u001b[49m\u001b[43mqr\u001b[49m\u001b[43m[\u001b[49m\u001b[38;5;241;43m0\u001b[39;49m\u001b[43m]\u001b[49m\u001b[43m,\u001b[49m\u001b[43m \u001b[49m\u001b[43mqr\u001b[49m\u001b[43m[\u001b[49m\u001b[38;5;241;43m126\u001b[39;49m\u001b[43m]\u001b[49m\u001b[43m]\u001b[49m\u001b[43m,\u001b[49m\u001b[43m \u001b[49m\u001b[43m[\u001b[49m\u001b[43mcr\u001b[49m\u001b[43m[\u001b[49m\u001b[38;5;241;43m0\u001b[39;49m\u001b[43m]\u001b[49m\u001b[43m,\u001b[49m\u001b[43m \u001b[49m\u001b[43mcr\u001b[49m\u001b[43m[\u001b[49m\u001b[38;5;241;43m1\u001b[39;49m\u001b[43m]\u001b[49m\u001b[43m]\u001b[49m\u001b[43m)\u001b[49m\n\u001b[1;32m     30\u001b[0m qc\u001b[38;5;241m.\u001b[39mappend(group_measure_0, [qr[\u001b[38;5;241m0\u001b[39m], qr[\u001b[38;5;241m126\u001b[39m], cr[\u001b[38;5;241m0\u001b[39m], cr[\u001b[38;5;241m1\u001b[39m]])\n\u001b[1;32m     32\u001b[0m group_measure_1 \u001b[38;5;241m=\u001b[39m GroupMeasure([qr[\u001b[38;5;241m16\u001b[39m], qr[\u001b[38;5;241m26\u001b[39m]], [cr[\u001b[38;5;241m2\u001b[39m], cr[\u001b[38;5;241m3\u001b[39m]])\n",
      "Cell \u001b[0;32mIn[3], line 7\u001b[0m, in \u001b[0;36mGroupMeasure.__init__\u001b[0;34m(self, qubits, clbits)\u001b[0m\n\u001b[1;32m      6\u001b[0m \u001b[38;5;28;01mdef\u001b[39;00m \u001b[38;5;21m__init__\u001b[39m(\u001b[38;5;28mself\u001b[39m, qubits, clbits):\n\u001b[0;32m----> 7\u001b[0m     \u001b[38;5;28;43msuper\u001b[39;49m\u001b[43m(\u001b[49m\u001b[43m)\u001b[49m\u001b[38;5;241;43m.\u001b[39;49m\u001b[38;5;21;43m__init__\u001b[39;49m\u001b[43m(\u001b[49m\u001b[38;5;124;43m\"\u001b[39;49m\u001b[38;5;124;43mgroup_measure\u001b[39;49m\u001b[38;5;124;43m\"\u001b[39;49m\u001b[43m,\u001b[49m\u001b[43m \u001b[49m\u001b[43mqubits\u001b[49m\u001b[43m,\u001b[49m\u001b[43m \u001b[49m\u001b[43mclbits\u001b[49m\u001b[43m,\u001b[49m\u001b[43m \u001b[49m\u001b[43mparams\u001b[49m\u001b[38;5;241;43m=\u001b[39;49m\u001b[43m[\u001b[49m\u001b[43m]\u001b[49m\u001b[43m)\u001b[49m\n",
      "File \u001b[0;32m~/.conda/envs/QC/lib/python3.8/site-packages/qiskit/circuit/instruction.py:81\u001b[0m, in \u001b[0;36mInstruction.__init__\u001b[0;34m(self, name, num_qubits, num_clbits, params, duration, unit, label)\u001b[0m\n\u001b[1;32m     64\u001b[0m \u001b[38;5;250m\u001b[39m\u001b[38;5;124;03m\"\"\"Create a new instruction.\u001b[39;00m\n\u001b[1;32m     65\u001b[0m \n\u001b[1;32m     66\u001b[0m \u001b[38;5;124;03mArgs:\u001b[39;00m\n\u001b[0;32m   (...)\u001b[0m\n\u001b[1;32m     78\u001b[0m \u001b[38;5;124;03m    TypeError: when the optional label is provided, but it is not a string.\u001b[39;00m\n\u001b[1;32m     79\u001b[0m \u001b[38;5;124;03m\"\"\"\u001b[39;00m\n\u001b[1;32m     80\u001b[0m \u001b[38;5;28;01mif\u001b[39;00m \u001b[38;5;129;01mnot\u001b[39;00m \u001b[38;5;28misinstance\u001b[39m(num_qubits, \u001b[38;5;28mint\u001b[39m) \u001b[38;5;129;01mor\u001b[39;00m \u001b[38;5;129;01mnot\u001b[39;00m \u001b[38;5;28misinstance\u001b[39m(num_clbits, \u001b[38;5;28mint\u001b[39m):\n\u001b[0;32m---> 81\u001b[0m     \u001b[38;5;28;01mraise\u001b[39;00m CircuitError(\u001b[38;5;124m\"\u001b[39m\u001b[38;5;124mnum_qubits and num_clbits must be integer.\u001b[39m\u001b[38;5;124m\"\u001b[39m)\n\u001b[1;32m     82\u001b[0m \u001b[38;5;28;01mif\u001b[39;00m num_qubits \u001b[38;5;241m<\u001b[39m \u001b[38;5;241m0\u001b[39m \u001b[38;5;129;01mor\u001b[39;00m num_clbits \u001b[38;5;241m<\u001b[39m \u001b[38;5;241m0\u001b[39m:\n\u001b[1;32m     83\u001b[0m     \u001b[38;5;28;01mraise\u001b[39;00m CircuitError(\n\u001b[1;32m     84\u001b[0m         \u001b[38;5;124m\"\u001b[39m\u001b[38;5;124mbad instruction dimensions: \u001b[39m\u001b[38;5;132;01m%d\u001b[39;00m\u001b[38;5;124m qubits, \u001b[39m\u001b[38;5;132;01m%d\u001b[39;00m\u001b[38;5;124m clbits.\u001b[39m\u001b[38;5;124m\"\u001b[39m \u001b[38;5;241m%\u001b[39m num_qubits, num_clbits\n\u001b[1;32m     85\u001b[0m     )\n",
      "\u001b[0;31mCircuitError\u001b[0m: 'num_qubits and num_clbits must be integer.'"
     ]
    }
   ],
   "source": [
    "from qiskit import QuantumCircuit, QuantumRegister, ClassicalRegister, QiskitError\n",
    "from qiskit.circuit import Instruction\n",
    "\n",
    "# Define a custom instruction for grouping measurements\n",
    "class GroupMeasure(Instruction):\n",
    "    def __init__(self, qubits, clbits):\n",
    "        super().__init__(\"group_measure\", qubits, clbits, params=[])\n",
    "\n",
    "    def inverse(self):\n",
    "        raise QiskitError(\"The measure instruction cannot be inverted.\")\n",
    "\n",
    "    def broadcast_arguments(self, qubits, clbits):\n",
    "        qubits = qubits[:2]\n",
    "        clbits = clbits[:2]\n",
    "        yield (qubits, clbits)\n",
    "\n",
    "# Bell Circuit\n",
    "qr = QuantumRegister(127)\n",
    "cr = ClassicalRegister(8)\n",
    "qc = QuantumCircuit(qr, cr)\n",
    "\n",
    "qc.h([qr[0], qr[16], qr[55], qr[75]])\n",
    "qc.cx(qr[0], qr[126])\n",
    "qc.cx(qr[16], qr[26])\n",
    "qc.cx(qr[55], qr[68])\n",
    "qc.cx(qr[75], qr[90])\n",
    "\n",
    "# Measure in four independent groups\n",
    "group_measure_0 = GroupMeasure([qr[0], qr[126]], [cr[0], cr[1]])\n",
    "qc.append(group_measure_0, [qr[0], qr[126], cr[0], cr[1]])\n",
    "\n",
    "group_measure_1 = GroupMeasure([qr[16], qr[26]], [cr[2], cr[3]])\n",
    "qc.append(group_measure_1, [qr[16], qr[26], cr[2], cr[3]])\n",
    "\n",
    "group_measure_2 = GroupMeasure([qr[55], qr[68]], [cr[4], cr[5]])\n",
    "qc.append(group_measure_2, [qr[55], qr[68], cr[4], cr[5]])\n",
    "\n",
    "group_measure_3 = GroupMeasure([qr[75], qr[90]], [cr[6], cr[7]])\n",
    "qc.append(group_measure_3, [qr[75], qr[90], cr[6], cr[7]])"
   ]
  },
  {
   "cell_type": "code",
   "execution_count": 7,
   "id": "9fbe4d32-c93f-4981-ae75-c11cce3b2417",
   "metadata": {},
   "outputs": [
    {
     "ename": "CircuitError",
     "evalue": "'num_qubits and num_clbits must be integer.'",
     "output_type": "error",
     "traceback": [
      "\u001b[0;31m---------------------------------------------------------------------------\u001b[0m",
      "\u001b[0;31mCircuitError\u001b[0m                              Traceback (most recent call last)",
      "Cell \u001b[0;32mIn[7], line 31\u001b[0m\n\u001b[1;32m     28\u001b[0m qc\u001b[38;5;241m.\u001b[39mcx(qr[\u001b[38;5;241m75\u001b[39m], qr[\u001b[38;5;241m90\u001b[39m])\n\u001b[1;32m     30\u001b[0m \u001b[38;5;66;03m# Measure in four independent groups\u001b[39;00m\n\u001b[0;32m---> 31\u001b[0m group_measure_0 \u001b[38;5;241m=\u001b[39m \u001b[43mGroupMeasure\u001b[49m\u001b[43m(\u001b[49m\u001b[43m[\u001b[49m\u001b[43mqr\u001b[49m\u001b[43m[\u001b[49m\u001b[38;5;241;43m0\u001b[39;49m\u001b[43m]\u001b[49m\u001b[43m,\u001b[49m\u001b[43m \u001b[49m\u001b[43mqr\u001b[49m\u001b[43m[\u001b[49m\u001b[38;5;241;43m126\u001b[39;49m\u001b[43m]\u001b[49m\u001b[43m]\u001b[49m\u001b[43m,\u001b[49m\u001b[43m \u001b[49m\u001b[43m[\u001b[49m\u001b[43mcr\u001b[49m\u001b[43m[\u001b[49m\u001b[38;5;241;43m0\u001b[39;49m\u001b[43m]\u001b[49m\u001b[43m,\u001b[49m\u001b[43m \u001b[49m\u001b[43mcr\u001b[49m\u001b[43m[\u001b[49m\u001b[38;5;241;43m1\u001b[39;49m\u001b[43m]\u001b[49m\u001b[43m]\u001b[49m\u001b[43m)\u001b[49m\n\u001b[1;32m     32\u001b[0m qc\u001b[38;5;241m.\u001b[39mappend(group_measure_0, [qr[\u001b[38;5;241m0\u001b[39m], qr[\u001b[38;5;241m126\u001b[39m], cr[\u001b[38;5;241m0\u001b[39m], cr[\u001b[38;5;241m1\u001b[39m]])\n\u001b[1;32m     34\u001b[0m group_measure_1 \u001b[38;5;241m=\u001b[39m GroupMeasure([qr[\u001b[38;5;241m16\u001b[39m], qr[\u001b[38;5;241m26\u001b[39m]], [cr[\u001b[38;5;241m2\u001b[39m], cr[\u001b[38;5;241m3\u001b[39m]])\n",
      "Cell \u001b[0;32mIn[7], line 7\u001b[0m, in \u001b[0;36mGroupMeasure.__init__\u001b[0;34m(self, qubits, clbits)\u001b[0m\n\u001b[1;32m      6\u001b[0m \u001b[38;5;28;01mdef\u001b[39;00m \u001b[38;5;21m__init__\u001b[39m(\u001b[38;5;28mself\u001b[39m, qubits, clbits):\n\u001b[0;32m----> 7\u001b[0m     \u001b[38;5;28;43msuper\u001b[39;49m\u001b[43m(\u001b[49m\u001b[43m)\u001b[49m\u001b[38;5;241;43m.\u001b[39;49m\u001b[38;5;21;43m__init__\u001b[39;49m\u001b[43m(\u001b[49m\u001b[38;5;124;43m\"\u001b[39;49m\u001b[38;5;124;43mgroup_measure\u001b[39;49m\u001b[38;5;124;43m\"\u001b[39;49m\u001b[43m,\u001b[49m\u001b[43m \u001b[49m\u001b[43mqubits\u001b[49m\u001b[43m,\u001b[49m\u001b[43m \u001b[49m\u001b[43mclbits\u001b[49m\u001b[43m,\u001b[49m\u001b[43m \u001b[49m\u001b[43mparams\u001b[49m\u001b[38;5;241;43m=\u001b[39;49m\u001b[43m[\u001b[49m\u001b[43m]\u001b[49m\u001b[43m)\u001b[49m\n",
      "File \u001b[0;32m~/.conda/envs/QC/lib/python3.8/site-packages/qiskit/circuit/instruction.py:81\u001b[0m, in \u001b[0;36mInstruction.__init__\u001b[0;34m(self, name, num_qubits, num_clbits, params, duration, unit, label)\u001b[0m\n\u001b[1;32m     64\u001b[0m \u001b[38;5;250m\u001b[39m\u001b[38;5;124;03m\"\"\"Create a new instruction.\u001b[39;00m\n\u001b[1;32m     65\u001b[0m \n\u001b[1;32m     66\u001b[0m \u001b[38;5;124;03mArgs:\u001b[39;00m\n\u001b[0;32m   (...)\u001b[0m\n\u001b[1;32m     78\u001b[0m \u001b[38;5;124;03m    TypeError: when the optional label is provided, but it is not a string.\u001b[39;00m\n\u001b[1;32m     79\u001b[0m \u001b[38;5;124;03m\"\"\"\u001b[39;00m\n\u001b[1;32m     80\u001b[0m \u001b[38;5;28;01mif\u001b[39;00m \u001b[38;5;129;01mnot\u001b[39;00m \u001b[38;5;28misinstance\u001b[39m(num_qubits, \u001b[38;5;28mint\u001b[39m) \u001b[38;5;129;01mor\u001b[39;00m \u001b[38;5;129;01mnot\u001b[39;00m \u001b[38;5;28misinstance\u001b[39m(num_clbits, \u001b[38;5;28mint\u001b[39m):\n\u001b[0;32m---> 81\u001b[0m     \u001b[38;5;28;01mraise\u001b[39;00m CircuitError(\u001b[38;5;124m\"\u001b[39m\u001b[38;5;124mnum_qubits and num_clbits must be integer.\u001b[39m\u001b[38;5;124m\"\u001b[39m)\n\u001b[1;32m     82\u001b[0m \u001b[38;5;28;01mif\u001b[39;00m num_qubits \u001b[38;5;241m<\u001b[39m \u001b[38;5;241m0\u001b[39m \u001b[38;5;129;01mor\u001b[39;00m num_clbits \u001b[38;5;241m<\u001b[39m \u001b[38;5;241m0\u001b[39m:\n\u001b[1;32m     83\u001b[0m     \u001b[38;5;28;01mraise\u001b[39;00m CircuitError(\n\u001b[1;32m     84\u001b[0m         \u001b[38;5;124m\"\u001b[39m\u001b[38;5;124mbad instruction dimensions: \u001b[39m\u001b[38;5;132;01m%d\u001b[39;00m\u001b[38;5;124m qubits, \u001b[39m\u001b[38;5;132;01m%d\u001b[39;00m\u001b[38;5;124m clbits.\u001b[39m\u001b[38;5;124m\"\u001b[39m \u001b[38;5;241m%\u001b[39m num_qubits, num_clbits\n\u001b[1;32m     85\u001b[0m     )\n",
      "\u001b[0;31mCircuitError\u001b[0m: 'num_qubits and num_clbits must be integer.'"
     ]
    }
   ],
   "source": [
    "from qiskit import QuantumCircuit, QuantumRegister, ClassicalRegister, QiskitError\n",
    "from qiskit.circuit import Instruction\n",
    "\n",
    "# Define a custom instruction for grouping measurements\n",
    "class GroupMeasure(Instruction):\n",
    "    def __init__(self, qubits, clbits):\n",
    "        super().__init__(\"group_measure\", qubits, clbits, params=[])\n",
    "\n",
    "    def inverse(self):\n",
    "        raise QiskitError(\"The measure instruction cannot be inverted.\")\n",
    "\n",
    "    def broadcast_arguments(self, qubits, clbits):\n",
    "        qubits = qubits[:2]\n",
    "        clbits = clbits[:2]\n",
    "        yield (qubits, clbits)\n",
    "\n",
    "# Bell Circuit\n",
    "num_qubits = 127\n",
    "num_clbits = 8\n",
    "qr = QuantumRegister(num_qubits)\n",
    "cr = ClassicalRegister(num_clbits)\n",
    "qc = QuantumCircuit(qr, cr)\n",
    "\n",
    "qc.h([qr[0], qr[16], qr[55], qr[75]])\n",
    "qc.cx(qr[0], qr[126])\n",
    "qc.cx(qr[16], qr[26])\n",
    "qc.cx(qr[55], qr[68])\n",
    "qc.cx(qr[75], qr[90])\n",
    "\n",
    "# Measure in four independent groups\n",
    "group_measure_0 = GroupMeasure([qr[0], qr[126]], [cr[0], cr[1]])\n",
    "qc.append(group_measure_0, [qr[0], qr[126], cr[0], cr[1]])\n",
    "\n",
    "group_measure_1 = GroupMeasure([qr[16], qr[26]], [cr[2], cr[3]])\n",
    "qc.append(group_measure_1, [qr[16], qr[26], cr[2], cr[3]])\n",
    "\n",
    "group_measure_2 = GroupMeasure([qr[55], qr[68]], [cr[4], cr[5]])\n",
    "qc.append(group_measure_2, [qr[55], qr[68], cr[4], cr[5]])\n",
    "\n",
    "group_measure_3 = GroupMeasure([qr[75], qr[90]], [cr[6], cr[7]])\n",
    "qc.append(group_measure_3, [qr[75], qr[90], cr[6], cr[7]])"
   ]
  },
  {
   "cell_type": "code",
   "execution_count": 2,
   "id": "d6326949-732e-49f3-8e4b-64ee941cbdd2",
   "metadata": {},
   "outputs": [
    {
     "ename": "QiskitError",
     "evalue": "'No statevector for experiment \"<qiskit.circuit.quantumcircuit.QuantumCircuit object at 0x7fa5805b1e20>\"'",
     "output_type": "error",
     "traceback": [
      "\u001b[0;31m---------------------------------------------------------------------------\u001b[0m",
      "\u001b[0;31mKeyError\u001b[0m                                  Traceback (most recent call last)",
      "File \u001b[0;32m~/.conda/envs/QC/lib/python3.8/site-packages/qiskit/result/result.py:314\u001b[0m, in \u001b[0;36mResult.get_statevector\u001b[0;34m(self, experiment, decimals)\u001b[0m\n\u001b[1;32m    312\u001b[0m \u001b[38;5;28;01mtry\u001b[39;00m:\n\u001b[1;32m    313\u001b[0m     \u001b[38;5;28;01mreturn\u001b[39;00m postprocess\u001b[38;5;241m.\u001b[39mformat_statevector(\n\u001b[0;32m--> 314\u001b[0m         \u001b[38;5;28;43mself\u001b[39;49m\u001b[38;5;241;43m.\u001b[39;49m\u001b[43mdata\u001b[49m\u001b[43m(\u001b[49m\u001b[43mexperiment\u001b[49m\u001b[43m)\u001b[49m\u001b[43m[\u001b[49m\u001b[38;5;124;43m\"\u001b[39;49m\u001b[38;5;124;43mstatevector\u001b[39;49m\u001b[38;5;124;43m\"\u001b[39;49m\u001b[43m]\u001b[49m, decimals\u001b[38;5;241m=\u001b[39mdecimals\n\u001b[1;32m    315\u001b[0m     )\n\u001b[1;32m    316\u001b[0m \u001b[38;5;28;01mexcept\u001b[39;00m \u001b[38;5;167;01mKeyError\u001b[39;00m \u001b[38;5;28;01mas\u001b[39;00m ex:\n",
      "\u001b[0;31mKeyError\u001b[0m: 'statevector'",
      "\nThe above exception was the direct cause of the following exception:\n",
      "\u001b[0;31mQiskitError\u001b[0m                               Traceback (most recent call last)",
      "Cell \u001b[0;32mIn[2], line 30\u001b[0m\n\u001b[1;32m     27\u001b[0m qc\u001b[38;5;241m.\u001b[39mmeasure(\u001b[38;5;241m1\u001b[39m, \u001b[38;5;241m1\u001b[39m)\n\u001b[1;32m     29\u001b[0m \u001b[38;5;66;03m# Getting the state vector of the circuit\u001b[39;00m\n\u001b[0;32m---> 30\u001b[0m Psi \u001b[38;5;241m=\u001b[39m \u001b[43mSimulate_statevector\u001b[49m\u001b[43m(\u001b[49m\u001b[43mqc\u001b[49m\u001b[43m)\u001b[49m\n\u001b[1;32m     32\u001b[0m \u001b[38;5;66;03m# Storing measurement outcome\u001b[39;00m\n\u001b[1;32m     33\u001b[0m \u001b[38;5;28;01mif\u001b[39;00m Psi[\u001b[38;5;241m0\u001b[39m]\u001b[38;5;241m.\u001b[39mreal \u001b[38;5;241m==\u001b[39m \u001b[38;5;241m1\u001b[39m:\n",
      "Cell \u001b[0;32mIn[2], line 12\u001b[0m, in \u001b[0;36mSimulate_statevector\u001b[0;34m(q_circuit)\u001b[0m\n\u001b[1;32m     10\u001b[0m job \u001b[38;5;241m=\u001b[39m backend\u001b[38;5;241m.\u001b[39mrun(tqc)\n\u001b[1;32m     11\u001b[0m result \u001b[38;5;241m=\u001b[39m job\u001b[38;5;241m.\u001b[39mresult()\n\u001b[0;32m---> 12\u001b[0m psi_qc \u001b[38;5;241m=\u001b[39m \u001b[43mresult\u001b[49m\u001b[38;5;241;43m.\u001b[39;49m\u001b[43mget_statevector\u001b[49m\u001b[43m(\u001b[49m\u001b[43mtqc\u001b[49m\u001b[43m,\u001b[49m\u001b[43m \u001b[49m\u001b[38;5;241;43m4\u001b[39;49m\u001b[43m)\u001b[49m\n\u001b[1;32m     13\u001b[0m \u001b[38;5;28;01mreturn\u001b[39;00m Statevector(psi_qc)\n",
      "File \u001b[0;32m~/.conda/envs/QC/lib/python3.8/site-packages/qiskit/result/result.py:317\u001b[0m, in \u001b[0;36mResult.get_statevector\u001b[0;34m(self, experiment, decimals)\u001b[0m\n\u001b[1;32m    313\u001b[0m     \u001b[38;5;28;01mreturn\u001b[39;00m postprocess\u001b[38;5;241m.\u001b[39mformat_statevector(\n\u001b[1;32m    314\u001b[0m         \u001b[38;5;28mself\u001b[39m\u001b[38;5;241m.\u001b[39mdata(experiment)[\u001b[38;5;124m\"\u001b[39m\u001b[38;5;124mstatevector\u001b[39m\u001b[38;5;124m\"\u001b[39m], decimals\u001b[38;5;241m=\u001b[39mdecimals\n\u001b[1;32m    315\u001b[0m     )\n\u001b[1;32m    316\u001b[0m \u001b[38;5;28;01mexcept\u001b[39;00m \u001b[38;5;167;01mKeyError\u001b[39;00m \u001b[38;5;28;01mas\u001b[39;00m ex:\n\u001b[0;32m--> 317\u001b[0m     \u001b[38;5;28;01mraise\u001b[39;00m QiskitError(\u001b[38;5;124mf\u001b[39m\u001b[38;5;124m'\u001b[39m\u001b[38;5;124mNo statevector for experiment \u001b[39m\u001b[38;5;124m\"\u001b[39m\u001b[38;5;132;01m{\u001b[39;00m\u001b[38;5;28mrepr\u001b[39m(experiment)\u001b[38;5;132;01m}\u001b[39;00m\u001b[38;5;124m\"\u001b[39m\u001b[38;5;124m'\u001b[39m) \u001b[38;5;28;01mfrom\u001b[39;00m \u001b[38;5;21;01mex\u001b[39;00m\n",
      "\u001b[0;31mQiskitError\u001b[0m: 'No statevector for experiment \"<qiskit.circuit.quantumcircuit.QuantumCircuit object at 0x7fa5805b1e20>\"'"
     ]
    }
   ],
   "source": [
    "from qiskit import transpile\n",
    "from qiskit.quantum_info import Statevector\n",
    "from qiskit_aer import Aer\n",
    "# Function that returns the state vector of a circuit\n",
    "\n",
    "backend = Aer.get_backend('qasm_simulator') # the device to run on\n",
    "\n",
    "def Simulate_statevector(q_circuit):\n",
    "    tqc = transpile(q_circuit, backend)\n",
    "    job = backend.run(tqc)\n",
    "    result = job.result()\n",
    "    psi_qc = result.get_statevector(tqc, 4)\n",
    "    return Statevector(psi_qc)\n",
    "\n",
    "from qiskit import QuantumRegister, ClassicalRegister, QuantumCircuit\n",
    "\n",
    "qubits = QuantumRegister(2)\n",
    "cbits = ClassicalRegister(2)\n",
    "\n",
    "qc = QuantumCircuit(qubits, cbits)\n",
    "\n",
    "qc.h(1) # Applying a H gate so that measurement in qubit 1 can return either |0> or |1>\n",
    "\n",
    "m = [] # Array to store measurement outcomes\n",
    "\n",
    "# Measuring qubit 1\n",
    "qc.measure(1, 1)\n",
    "\n",
    "# Getting the state vector of the circuit\n",
    "Psi = Simulate_statevector(qc)\n",
    "\n",
    "# Storing measurement outcome\n",
    "if Psi[0].real == 1:\n",
    "    m.append(0)\n",
    "    \n",
    "else:\n",
    "    m.append(1)\n",
    "\n",
    "print('m =', m)\n",
    "Psi.draw('latex')"
   ]
  },
  {
   "cell_type": "code",
   "execution_count": null,
   "id": "8dea404e-c6cb-4b4c-9a60-fa9c997afc72",
   "metadata": {},
   "outputs": [],
   "source": []
  }
 ],
 "metadata": {
  "kernelspec": {
   "display_name": "Python 3 (ipykernel)",
   "language": "python",
   "name": "python3"
  },
  "language_info": {
   "codemirror_mode": {
    "name": "ipython",
    "version": 3
   },
   "file_extension": ".py",
   "mimetype": "text/x-python",
   "name": "python",
   "nbconvert_exporter": "python",
   "pygments_lexer": "ipython3",
   "version": "3.8.19"
  }
 },
 "nbformat": 4,
 "nbformat_minor": 5
}
