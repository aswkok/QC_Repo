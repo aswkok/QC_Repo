{
 "cells": [
  {
   "cell_type": "code",
   "execution_count": 8,
   "id": "f8311ace-a18b-49ed-820d-3fad7fb39499",
   "metadata": {
    "scrolled": true
   },
   "outputs": [
    {
     "ename": "TypeError",
     "evalue": "measure() missing 1 required positional argument: 'cbit'",
     "output_type": "error",
     "traceback": [
      "\u001b[0;31m---------------------------------------------------------------------------\u001b[0m",
      "\u001b[0;31mTypeError\u001b[0m                                 Traceback (most recent call last)",
      "Cell \u001b[0;32mIn[8], line 14\u001b[0m\n\u001b[1;32m     11\u001b[0m qc\u001b[38;5;241m.\u001b[39mh([\u001b[38;5;241m0\u001b[39m,\u001b[38;5;241m16\u001b[39m,\u001b[38;5;241m55\u001b[39m,\u001b[38;5;241m75\u001b[39m])\n\u001b[1;32m     12\u001b[0m qc\u001b[38;5;241m.\u001b[39mcx([\u001b[38;5;241m0\u001b[39m,\u001b[38;5;241m16\u001b[39m,\u001b[38;5;241m55\u001b[39m,\u001b[38;5;241m75\u001b[39m],[\u001b[38;5;241m126\u001b[39m,\u001b[38;5;241m26\u001b[39m,\u001b[38;5;241m68\u001b[39m,\u001b[38;5;241m90\u001b[39m])\n\u001b[0;32m---> 14\u001b[0m \u001b[43mqc\u001b[49m\u001b[38;5;241;43m.\u001b[39;49m\u001b[43mmeasure\u001b[49m\u001b[43m(\u001b[49m\u001b[43m[\u001b[49m\u001b[38;5;241;43m0\u001b[39;49m\u001b[43m,\u001b[49m\u001b[38;5;241;43m126\u001b[39;49m\u001b[43m]\u001b[49m\u001b[43m)\u001b[49m\n\u001b[1;32m     15\u001b[0m qc\u001b[38;5;241m.\u001b[39mmeasure([\u001b[38;5;241m16\u001b[39m,\u001b[38;5;241m26\u001b[39m])\n\u001b[1;32m     16\u001b[0m qc\u001b[38;5;241m.\u001b[39mmeasure([\u001b[38;5;241m55\u001b[39m,\u001b[38;5;241m68\u001b[39m])\n",
      "\u001b[0;31mTypeError\u001b[0m: measure() missing 1 required positional argument: 'cbit'"
     ]
    }
   ],
   "source": [
    "from qiskit.circuit.library import RealAmplitudes\n",
    "from qiskit.circuit import QuantumCircuit, QuantumRegister, ClassicalRegister\n",
    "from qiskit.quantum_info import SparsePauliOp\n",
    "from qiskit.transpiler.preset_passmanagers import generate_preset_pass_manager\n",
    "from qiskit_ibm_runtime import SamplerV2 as Sampler, EstimatorV2 as Estimator\n",
    "from qiskit.visualization import  plot_histogram\n",
    "\n",
    " \n",
    "# Bell Circuit\n",
    "qc = QuantumCircuit(127)\n",
    "qc.h([0,16,55,75])\n",
    "qc.cx([0,16,55,75],[126,26,68,90])\n",
    "\n",
    "qc.measure([0,126])\n",
    "qc.measure([16,26])\n",
    "qc.measure([55,68])\n",
    "qc.measure([75,90])"
   ]
  },
  {
   "cell_type": "code",
   "execution_count": null,
   "id": "1975bc2d-4589-4bf3-ac66-7c9f8598f210",
   "metadata": {
    "scrolled": true
   },
   "outputs": [],
   "source": [
    "qc.draw(\"mpl\", style=\"iqp\")"
   ]
  },
  {
   "cell_type": "code",
   "execution_count": null,
   "id": "5a311198-3505-4b8b-ae05-7999ef8d1a1d",
   "metadata": {},
   "outputs": [],
   "source": [
    "from qiskit_ibm_runtime import QiskitRuntimeService\n",
    "\n",
    "# Load saved credentials\n",
    "service = QiskitRuntimeService(name=\"xuy\")"
   ]
  },
  {
   "cell_type": "code",
   "execution_count": 7,
   "id": "0aa6f3b8-dbf5-4a3d-b2d9-8da1e8eb47d2",
   "metadata": {
    "scrolled": true
   },
   "outputs": [
    {
     "ename": "KeyboardInterrupt",
     "evalue": "",
     "output_type": "error",
     "traceback": [
      "\u001b[0;31m---------------------------------------------------------------------------\u001b[0m",
      "\u001b[0;31mKeyboardInterrupt\u001b[0m                         Traceback (most recent call last)",
      "Cell \u001b[0;32mIn[7], line 11\u001b[0m\n\u001b[1;32m      7\u001b[0m isa_qc \u001b[38;5;241m=\u001b[39m pm\u001b[38;5;241m.\u001b[39mrun(qc)\n\u001b[1;32m     10\u001b[0m  \u001b[38;5;66;03m#Run sampler\u001b[39;00m\n\u001b[0;32m---> 11\u001b[0m job \u001b[38;5;241m=\u001b[39m \u001b[43msampler\u001b[49m\u001b[38;5;241;43m.\u001b[39;49m\u001b[43mrun\u001b[49m\u001b[43m(\u001b[49m\u001b[43m[\u001b[49m\u001b[43misa_qc\u001b[49m\u001b[43m]\u001b[49m\u001b[43m,\u001b[49m\u001b[43mshots\u001b[49m\u001b[38;5;241;43m=\u001b[39;49m\u001b[38;5;241;43m4096\u001b[39;49m\u001b[43m)\u001b[49m\u001b[38;5;241;43m.\u001b[39;49m\u001b[43mresult\u001b[49m\u001b[43m(\u001b[49m\u001b[43m)\u001b[49m\n\u001b[1;32m     12\u001b[0m pub_result \u001b[38;5;241m=\u001b[39m result_sam[\u001b[38;5;241m0\u001b[39m]\n",
      "File \u001b[0;32m~/.conda/envs/QC/lib/python3.8/site-packages/qiskit_ibm_runtime/runtime_job_v2.py:133\u001b[0m, in \u001b[0;36mRuntimeJobV2.result\u001b[0;34m(self, timeout, decoder)\u001b[0m\n\u001b[1;32m    118\u001b[0m \u001b[38;5;250m\u001b[39m\u001b[38;5;124;03m\"\"\"Return the results of the job.\u001b[39;00m\n\u001b[1;32m    119\u001b[0m \n\u001b[1;32m    120\u001b[0m \u001b[38;5;124;03mArgs:\u001b[39;00m\n\u001b[0;32m   (...)\u001b[0m\n\u001b[1;32m    130\u001b[0m \u001b[38;5;124;03m    RuntimeInvalidStateError: If the job was cancelled, and attempting to retrieve result.\u001b[39;00m\n\u001b[1;32m    131\u001b[0m \u001b[38;5;124;03m\"\"\"\u001b[39;00m\n\u001b[1;32m    132\u001b[0m _decoder \u001b[38;5;241m=\u001b[39m decoder \u001b[38;5;129;01mor\u001b[39;00m \u001b[38;5;28mself\u001b[39m\u001b[38;5;241m.\u001b[39m_final_result_decoder\n\u001b[0;32m--> 133\u001b[0m \u001b[38;5;28;43mself\u001b[39;49m\u001b[38;5;241;43m.\u001b[39;49m\u001b[43mwait_for_final_state\u001b[49m\u001b[43m(\u001b[49m\u001b[43mtimeout\u001b[49m\u001b[38;5;241;43m=\u001b[39;49m\u001b[43mtimeout\u001b[49m\u001b[43m)\u001b[49m\n\u001b[1;32m    134\u001b[0m \u001b[38;5;28;01mif\u001b[39;00m \u001b[38;5;28mself\u001b[39m\u001b[38;5;241m.\u001b[39m_status \u001b[38;5;241m==\u001b[39m \u001b[38;5;124m\"\u001b[39m\u001b[38;5;124mERROR\u001b[39m\u001b[38;5;124m\"\u001b[39m:\n\u001b[1;32m    135\u001b[0m     error_message \u001b[38;5;241m=\u001b[39m \u001b[38;5;28mself\u001b[39m\u001b[38;5;241m.\u001b[39m_reason \u001b[38;5;28;01mif\u001b[39;00m \u001b[38;5;28mself\u001b[39m\u001b[38;5;241m.\u001b[39m_reason \u001b[38;5;28;01melse\u001b[39;00m \u001b[38;5;28mself\u001b[39m\u001b[38;5;241m.\u001b[39m_error_message\n",
      "File \u001b[0;32m~/.conda/envs/QC/lib/python3.8/site-packages/qiskit_ibm_runtime/runtime_job_v2.py:250\u001b[0m, in \u001b[0;36mRuntimeJobV2.wait_for_final_state\u001b[0;34m(self, timeout)\u001b[0m\n\u001b[1;32m    248\u001b[0m     \u001b[38;5;28mself\u001b[39m\u001b[38;5;241m.\u001b[39m_ws_client_future \u001b[38;5;241m=\u001b[39m \u001b[38;5;28mself\u001b[39m\u001b[38;5;241m.\u001b[39m_executor\u001b[38;5;241m.\u001b[39msubmit(\u001b[38;5;28mself\u001b[39m\u001b[38;5;241m.\u001b[39m_start_websocket_client)\n\u001b[1;32m    249\u001b[0m \u001b[38;5;28;01mif\u001b[39;00m \u001b[38;5;28mself\u001b[39m\u001b[38;5;241m.\u001b[39m_is_streaming():\n\u001b[0;32m--> 250\u001b[0m     \u001b[38;5;28;43mself\u001b[39;49m\u001b[38;5;241;43m.\u001b[39;49m\u001b[43m_ws_client_future\u001b[49m\u001b[38;5;241;43m.\u001b[39;49m\u001b[43mresult\u001b[49m\u001b[43m(\u001b[49m\u001b[43mtimeout\u001b[49m\u001b[43m)\u001b[49m\n\u001b[1;32m    251\u001b[0m \u001b[38;5;66;03m# poll for status after stream has closed until status is final\u001b[39;00m\n\u001b[1;32m    252\u001b[0m \u001b[38;5;66;03m# because status doesn't become final as soon as stream closes\u001b[39;00m\n\u001b[1;32m    253\u001b[0m status \u001b[38;5;241m=\u001b[39m \u001b[38;5;28mself\u001b[39m\u001b[38;5;241m.\u001b[39mstatus()\n",
      "File \u001b[0;32m~/.conda/envs/QC/lib/python3.8/concurrent/futures/_base.py:439\u001b[0m, in \u001b[0;36mFuture.result\u001b[0;34m(self, timeout)\u001b[0m\n\u001b[1;32m    436\u001b[0m \u001b[38;5;28;01melif\u001b[39;00m \u001b[38;5;28mself\u001b[39m\u001b[38;5;241m.\u001b[39m_state \u001b[38;5;241m==\u001b[39m FINISHED:\n\u001b[1;32m    437\u001b[0m     \u001b[38;5;28;01mreturn\u001b[39;00m \u001b[38;5;28mself\u001b[39m\u001b[38;5;241m.\u001b[39m__get_result()\n\u001b[0;32m--> 439\u001b[0m \u001b[38;5;28;43mself\u001b[39;49m\u001b[38;5;241;43m.\u001b[39;49m\u001b[43m_condition\u001b[49m\u001b[38;5;241;43m.\u001b[39;49m\u001b[43mwait\u001b[49m\u001b[43m(\u001b[49m\u001b[43mtimeout\u001b[49m\u001b[43m)\u001b[49m\n\u001b[1;32m    441\u001b[0m \u001b[38;5;28;01mif\u001b[39;00m \u001b[38;5;28mself\u001b[39m\u001b[38;5;241m.\u001b[39m_state \u001b[38;5;129;01min\u001b[39;00m [CANCELLED, CANCELLED_AND_NOTIFIED]:\n\u001b[1;32m    442\u001b[0m     \u001b[38;5;28;01mraise\u001b[39;00m CancelledError()\n",
      "File \u001b[0;32m~/.conda/envs/QC/lib/python3.8/threading.py:302\u001b[0m, in \u001b[0;36mCondition.wait\u001b[0;34m(self, timeout)\u001b[0m\n\u001b[1;32m    300\u001b[0m \u001b[38;5;28;01mtry\u001b[39;00m:    \u001b[38;5;66;03m# restore state no matter what (e.g., KeyboardInterrupt)\u001b[39;00m\n\u001b[1;32m    301\u001b[0m     \u001b[38;5;28;01mif\u001b[39;00m timeout \u001b[38;5;129;01mis\u001b[39;00m \u001b[38;5;28;01mNone\u001b[39;00m:\n\u001b[0;32m--> 302\u001b[0m         \u001b[43mwaiter\u001b[49m\u001b[38;5;241;43m.\u001b[39;49m\u001b[43macquire\u001b[49m\u001b[43m(\u001b[49m\u001b[43m)\u001b[49m\n\u001b[1;32m    303\u001b[0m         gotit \u001b[38;5;241m=\u001b[39m \u001b[38;5;28;01mTrue\u001b[39;00m\n\u001b[1;32m    304\u001b[0m     \u001b[38;5;28;01melse\u001b[39;00m:\n",
      "\u001b[0;31mKeyboardInterrupt\u001b[0m: "
     ]
    }
   ],
   "source": [
    "# Run the sampler job locally using ibm_cleveland\n",
    "backend = service.backend(\"ibm_cleveland\")\n",
    "sampler = Sampler(backend)\n",
    "\n",
    "\n",
    "pm = generate_preset_pass_manager(backend=backend, optimization_level=0)\n",
    "isa_qc = pm.run(qc)\n",
    "\n",
    "\n",
    " #Run sampler\n",
    "job = sampler.run([isa_qc],shots=4096).result()\n",
    "pub_result = result_sam[0]\n",
    "\n",
    "\n"
   ]
  },
  {
   "cell_type": "code",
   "execution_count": null,
   "id": "58f33778-0538-4f70-b068-377932e83b5d",
   "metadata": {},
   "outputs": [],
   "source": []
  }
 ],
 "metadata": {
  "kernelspec": {
   "display_name": "Python 3 (ipykernel)",
   "language": "python",
   "name": "python3"
  },
  "language_info": {
   "codemirror_mode": {
    "name": "ipython",
    "version": 3
   },
   "file_extension": ".py",
   "mimetype": "text/x-python",
   "name": "python",
   "nbconvert_exporter": "python",
   "pygments_lexer": "ipython3",
   "version": "3.8.19"
  }
 },
 "nbformat": 4,
 "nbformat_minor": 5
}
