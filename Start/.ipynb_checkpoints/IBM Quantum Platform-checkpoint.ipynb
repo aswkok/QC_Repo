{
 "cells": [
  {
   "cell_type": "code",
   "execution_count": 2,
   "id": "aad65334-bf8b-44fa-b34a-181b1245409c",
   "metadata": {},
   "outputs": [],
   "source": [
    "from qiskit_ibm_runtime import QiskitRuntimeService\n",
    " \n",
    "# Save an IBM Quantum account and set it as your default account.\n",
    "QiskitRuntimeService.save_account(channel=\"ibm_quantum\", token=\"cdf9b9daff6e97da8251bab4881ad0e7225af65946ca3f7e127fa3e4709ff8f15e34a8d45aba9936e77fa455b9d426546c6b62dda33b95b996237eb100b43aee\", name = \"xuy\", set_as_default=True)\n",
    " \n",
    "# Load saved credentials\n",
    "service = QiskitRuntimeService()"
   ]
  },
  {
   "cell_type": "code",
   "execution_count": 7,
   "id": "8431923f-9f69-40a8-8898-86efe65347f0",
   "metadata": {},
   "outputs": [
    {
     "name": "stdout",
     "output_type": "stream",
     "text": [
      "Collecting qiskit-aer\n",
      "  Downloading qiskit_aer-0.14.0.1-cp38-cp38-macosx_10_9_x86_64.whl.metadata (6.1 kB)\n",
      "Requirement already satisfied: qiskit>=0.45.0 in /Users/xuy/.conda/envs/QC/lib/python3.8/site-packages (from qiskit-aer) (1.0.2)\n",
      "Requirement already satisfied: numpy>=1.16.3 in /Users/xuy/.conda/envs/QC/lib/python3.8/site-packages (from qiskit-aer) (1.24.4)\n",
      "Requirement already satisfied: scipy>=1.0 in /Users/xuy/.conda/envs/QC/lib/python3.8/site-packages (from qiskit-aer) (1.10.1)\n",
      "Requirement already satisfied: psutil>=5 in /Users/xuy/.conda/envs/QC/lib/python3.8/site-packages (from qiskit-aer) (5.9.8)\n",
      "Requirement already satisfied: rustworkx>=0.14.0 in /Users/xuy/.conda/envs/QC/lib/python3.8/site-packages (from qiskit>=0.45.0->qiskit-aer) (0.14.2)\n",
      "Requirement already satisfied: sympy>=1.3 in /Users/xuy/.conda/envs/QC/lib/python3.8/site-packages (from qiskit>=0.45.0->qiskit-aer) (1.12)\n",
      "Requirement already satisfied: dill>=0.3 in /Users/xuy/.conda/envs/QC/lib/python3.8/site-packages (from qiskit>=0.45.0->qiskit-aer) (0.3.8)\n",
      "Requirement already satisfied: python-dateutil>=2.8.0 in /Users/xuy/.conda/envs/QC/lib/python3.8/site-packages (from qiskit>=0.45.0->qiskit-aer) (2.9.0.post0)\n",
      "Requirement already satisfied: stevedore>=3.0.0 in /Users/xuy/.conda/envs/QC/lib/python3.8/site-packages (from qiskit>=0.45.0->qiskit-aer) (5.2.0)\n",
      "Requirement already satisfied: typing-extensions in /Users/xuy/.conda/envs/QC/lib/python3.8/site-packages (from qiskit>=0.45.0->qiskit-aer) (4.11.0)\n",
      "Requirement already satisfied: symengine>=0.11 in /Users/xuy/.conda/envs/QC/lib/python3.8/site-packages (from qiskit>=0.45.0->qiskit-aer) (0.11.0)\n",
      "Requirement already satisfied: six>=1.5 in /Users/xuy/.conda/envs/QC/lib/python3.8/site-packages (from python-dateutil>=2.8.0->qiskit>=0.45.0->qiskit-aer) (1.16.0)\n",
      "Requirement already satisfied: pbr!=2.1.0,>=2.0.0 in /Users/xuy/.conda/envs/QC/lib/python3.8/site-packages (from stevedore>=3.0.0->qiskit>=0.45.0->qiskit-aer) (6.0.0)\n",
      "Requirement already satisfied: mpmath>=0.19 in /Users/xuy/.conda/envs/QC/lib/python3.8/site-packages (from sympy>=1.3->qiskit>=0.45.0->qiskit-aer) (1.3.0)\n",
      "Downloading qiskit_aer-0.14.0.1-cp38-cp38-macosx_10_9_x86_64.whl (2.3 MB)\n",
      "\u001b[2K   \u001b[90m━━━━━━━━━━━━━━━━━━━━━━━━━━━━━━━━━━━━━━━━\u001b[0m \u001b[32m2.3/2.3 MB\u001b[0m \u001b[31m418.8 kB/s\u001b[0m eta \u001b[36m0:00:00\u001b[0m00:01\u001b[0m00:01\u001b[0m\n",
      "\u001b[?25hInstalling collected packages: qiskit-aer\n",
      "Successfully installed qiskit-aer-0.14.0.1\n",
      "Note: you may need to restart the kernel to use updated packages.\n"
     ]
    }
   ],
   "source": [
    "pip install qiskit-aer"
   ]
  },
  {
   "cell_type": "code",
   "execution_count": 8,
   "id": "1d32a593-2a17-488f-b0f4-8f44ce28745a",
   "metadata": {},
   "outputs": [
    {
     "name": "stdout",
     "output_type": "stream",
     "text": [
      "job id: b038f000-df1b-48cb-ac0e-2794eb834705\n",
      "PrimitiveResult([PubResult(data=DataBin<>(meas=BitArray(<shape=(), num_shots=1024, num_bits=2>)))], metadata={})\n"
     ]
    }
   ],
   "source": [
    "#Example Circuit to check the environment setup\n",
    "from qiskit import QuantumCircuit\n",
    "from qiskit_ibm_runtime import QiskitRuntimeService, SamplerV2 as Sampler\n",
    "from qiskit_ibm_runtime.fake_provider import FakeCairoV2\n",
    "\n",
    "\n",
    " \n",
    "# Create empty circuit\n",
    "example_circuit = QuantumCircuit(2)\n",
    "example_circuit.measure_all()\n",
    " \n",
    "# You'll need to specify the credentials when initializing QiskitRuntimeService, if they were not previously saved.\n",
    "# service = QiskitRuntimeService()\n",
    "# backend = service.backend(\"ibmq_qasm_simulator\")\n",
    "backend = FakeCairoV2()\n",
    " \n",
    "sampler = Sampler(backend)\n",
    "job = sampler.run([example_circuit])\n",
    "print(f\"job id: {job.job_id()}\")\n",
    "result = job.result()\n",
    "print(result)"
   ]
  },
  {
   "cell_type": "code",
   "execution_count": null,
   "id": "4f127496-0aec-429b-afea-08721738df28",
   "metadata": {},
   "outputs": [],
   "source": []
  }
 ],
 "metadata": {
  "kernelspec": {
   "display_name": "Python 3 (ipykernel)",
   "language": "python",
   "name": "python3"
  },
  "language_info": {
   "codemirror_mode": {
    "name": "ipython",
    "version": 3
   },
   "file_extension": ".py",
   "mimetype": "text/x-python",
   "name": "python",
   "nbconvert_exporter": "python",
   "pygments_lexer": "ipython3",
   "version": "3.8.19"
  }
 },
 "nbformat": 4,
 "nbformat_minor": 5
}
